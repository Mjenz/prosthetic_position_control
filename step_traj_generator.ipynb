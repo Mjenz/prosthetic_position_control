{
 "cells": [
  {
   "cell_type": "markdown",
   "metadata": {
    "id": "0KtDX1tugwP3"
   },
   "source": [
    "# Arm Motion Modeling"
   ]
  },
  {
   "cell_type": "markdown",
   "metadata": {
    "id": "LDNjUdKvgwQA"
   },
   "source": [
    "## System Description\n",
    "\n",
    "A double-pendulum system hanging in gravity is shown in the figure above. $q=[\\theta_1, \\theta_2]$ are the system configuration variables. We assume the z-axis is pointing out from the screen/paper, thus the positive direction of rotation is counter-clockwise.\n",
    "The solution steps are:\n",
    "1. Computing the Lagrangian of the system. \n",
    "2. Computing the Euler-Lagrange equations, and solve them for $\\ddot{\\theta}_1$ and $\\ddot{\\theta}_2$.\n",
    "3. Numerically evaluating the solutions for ${\\tau}_1$ and ${\\tau}_2$, and simulating the system for ${\\theta}_1$, ${\\theta}_2$, $\\dot{\\theta}_1$, $\\dot{\\theta}_2$, $\\ddot{\\theta}_1$ and $\\ddot{\\theta}_2$.\n",
    "4. Animating the simulation."
   ]
  },
  {
   "cell_type": "code",
   "execution_count": 6,
   "metadata": {
    "colab": {
     "base_uri": "https://localhost:8080/",
     "height": 377
    },
    "executionInfo": {
     "elapsed": 1165,
     "status": "ok",
     "timestamp": 1601478119764,
     "user": {
      "displayName": "Muchen Sun",
      "photoUrl": "https://lh3.googleusercontent.com/a-/AOh14Ginp48i0jmOxCe1Ash9fdfU0b4Pe6DGLT9uqf_M=s64",
      "userId": "16296401493550679771"
     },
     "user_tz": 300
    },
    "id": "2rRC_0a2gwP-",
    "outputId": "20b7ef22-47c1-4ebd-8349-4c59682709aa"
   },
   "outputs": [
    {
     "data": {
      "text/html": [
       "<table><tr><td><img src='./double-pendulum-diagram.png' width=450' height='300'></table>"
      ],
      "text/plain": [
       "<IPython.core.display.HTML object>"
      ]
     },
     "metadata": {},
     "output_type": "display_data"
    }
   ],
   "source": [
    "from IPython.core.display import HTML\n",
    "display(HTML(\"<table><tr><td><img src='./double-pendulum-diagram.png' width=450' height='300'></table>\"))"
   ]
  },
  {
   "cell_type": "markdown",
   "metadata": {
    "id": "0KtDX1tugwP3"
   },
   "source": [
    "## Import Libraries and Define System Constants\n",
    "\n",
    "Import libraries:"
   ]
  },
  {
   "cell_type": "code",
   "execution_count": 7,
   "metadata": {
    "colab": {
     "base_uri": "https://localhost:8080/",
     "height": 377
    },
    "executionInfo": {
     "elapsed": 1165,
     "status": "ok",
     "timestamp": 1601478119764,
     "user": {
      "displayName": "Muchen Sun",
      "photoUrl": "https://lh3.googleusercontent.com/a-/AOh14Ginp48i0jmOxCe1Ash9fdfU0b4Pe6DGLT9uqf_M=s64",
      "userId": "16296401493550679771"
     },
     "user_tz": 300
    },
    "id": "2rRC_0a2gwP-",
    "outputId": "20b7ef22-47c1-4ebd-8349-4c59682709aa"
   },
   "outputs": [],
   "source": [
    "# Imports required for data processing\n",
    "import os\n",
    "import csv\n",
    "\n",
    "# Imports required for dynamics calculations\n",
    "import sympy\n",
    "from sympy.abc import t\n",
    "from sympy import symbols, Eq, Function, solve, sin, cos, Matrix, Subs, substitution, Derivative, simplify, symbols, lambdify\n",
    "import math\n",
    "from math import pi\n",
    "import numpy as np\n",
    "import matplotlib.pyplot as plt\n",
    "\n",
    "# Imports required for animation\n",
    "from plotly.offline import init_notebook_mode, iplot\n",
    "from IPython.display import display, HTML\n",
    "import plotly.graph_objects as go\n"
   ]
  },
  {
   "cell_type": "code",
   "execution_count": 9,
   "metadata": {},
   "outputs": [
    {
     "data": {
      "image/png": "[encoded data removed]",
      "text/plain": [
       "<Figure size 640x480 with 1 Axes>"
      ]
     },
     "metadata": {},
     "output_type": "display_data"
    }
   ],
   "source": [
    "# Does not work with run all, will be cut off short while generating trajectory\n",
    "# Parameters\n",
    "size = 3998 # how many data points in ms\n",
    "frame_rate = 100 \n",
    "wave_length = 100 # frequency\n",
    "high = 0.15 # amplitude of the step function\n",
    "low = -high\n",
    "\n",
    "trigger = True\n",
    "counter = 0\n",
    "step_function = []\n",
    "t = []\n",
    "for i in range(size):\n",
    "    if trigger:\n",
    "        step_function.append(high)\n",
    "        counter+=1\n",
    "        if counter > wave_length:\n",
    "            counter = 0\n",
    "            trigger = False\n",
    "    else:\n",
    "        step_function.append(low)\n",
    "        counter+=1\n",
    "        if counter > wave_length:\n",
    "            counter = 0\n",
    "            trigger = True\n",
    "    t.append(i)\n",
    "\n",
    "plt.figure()\n",
    "plt.plot(step_function, 'k-')  \n",
    "\n",
    "\n",
    "with open(\"src/data_profile_step.c\", \"w\") as data_file:\n",
    "    data_file.write('#include \"data_profile.h\"\\n\\n')\n",
    "    data_file.write('float Angle_Profile_STEP[DATA_SAMPLES] = {\\n')\n",
    "    list_str = ', \\n'.join(map(str, step_function))  \n",
    "    data_file.write(list_str)\n",
    "    data_file.write('\\n};\\n')\n",
    "    \n",
    "    data_file.write('float Accel_Profile_STEP[DATA_SAMPLES-2] = {\\n')\n",
    "    accel_list_str = ', \\n'.join(map(str, step_function[:-2])) \n",
    "    data_file.write(accel_list_str)\n",
    "    data_file.write('\\n};')"
   ]
  }
 ],
 "metadata": {
  "colab": {
   "collapsed_sections": [],
   "name": "hw2-template.ipynb",
   "provenance": []
  },
  "kernelspec": {
   "display_name": "Python 3 (ipykernel)",
   "language": "python",
   "name": "python3"
  },
  "language_info": {
   "codemirror_mode": {
    "name": "ipython",
    "version": 3
   },
   "file_extension": ".py",
   "mimetype": "text/x-python",
   "name": "python",
   "nbconvert_exporter": "python",
   "pygments_lexer": "ipython3",
   "version": "3.12.4"
  }
 },
 "nbformat": 4,
 "nbformat_minor": 1
}

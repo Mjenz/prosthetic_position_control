{
 "cells": [
  {
   "cell_type": "code",
   "execution_count": 72,
   "metadata": {},
   "outputs": [],
   "source": [
    "# Import necesasry  libraries\n",
    "import pandas as pd\n",
    "import csv\n",
    "from scipy import stats\n",
    "import matplotlib.pyplot as plt\n",
    "from sklearn import linear_model\n",
    "import numpy as np"
   ]
  },
  {
   "cell_type": "code",
   "execution_count": 73,
   "metadata": {},
   "outputs": [],
   "source": [
    "# Specify the filename\n",
    "filename = 'imu_data/IMU_data_1.csv'\n",
    "\n",
    "# Specify the delay\n",
    "delay = 25\n",
    "\n",
    "# Read the data from the CSV file into a pandas DataFrame\n",
    "data_df = pd.read_csv(filename)\n",
    "\n",
    "# Split the DataFrame into three separate DataFrames\n",
    "time_df = data_df[['Time (s)']]\n",
    "step_detected_df = data_df[['Step Detected (0/1)']]\n",
    "\n",
    "imu_data_f = pd.DataFrame()\n",
    "imu_data_f['Data'] = data_df['Data']\n",
    "\n",
    "# Loop through the delay values and create shifted columns, adding them to the new DataFrame\n",
    "for d in range(1, delay + 1):\n",
    "    imu_data_f[f'Data_shifted_{d}'] = data_df['Data'].shift(d)"
   ]
  },
  {
   "cell_type": "code",
   "execution_count": 74,
   "metadata": {},
   "outputs": [
    {
     "name": "stdout",
     "output_type": "stream",
     "text": [
      "-0.0038815256505589186,\n",
      "0.0012713933880670724,\n",
      "-0.0027760205551401284,\n",
      "0.0068515213266720845,\n",
      "0.0006045024860259674,\n",
      "0.0038526850297101087,\n",
      "0.0013774988911361675,\n",
      "-0.001456459725874526,\n",
      "0.0034292347113439093,\n",
      "-0.005128587298535399,\n",
      "0.007168150063661801,\n",
      "-0.003470926658093961,\n",
      "-0.003193226599216235,\n",
      "-0.0004341360843010203,\n",
      "-0.002146004111455853,\n",
      "0.0021345393399046066,\n",
      "-0.004787546260999543,\n",
      "0.013858422688673268,\n",
      "-0.0066090687236087025,\n",
      "0.0022864408066174237,\n",
      "-0.007502816659189685,\n",
      "0.002632251216089658,\n",
      "-0.01018619596404581,\n",
      "0.010291288766381154,\n",
      "-0.0017644943568653761\n"
     ]
    }
   ],
   "source": [
    "fir_weights = []\n",
    "# define x and y\n",
    "y = step_detected_df.values\n",
    "x = np.zeros((delay, len(y)))\n",
    "for d in range(delay):\n",
    "    x[d,:] = imu_data_df[f'Data_shifted_{d+1}'].values  \n",
    "\n",
    "clf = linear_model.LinearRegression()\n",
    "clf.fit(x[:,delay:].T,y[delay:])\n",
    "print(',\\n'.join(map(str, clf.coef_.flatten())))\n",
    "# # print(f\"x: {x}, y: {y},\")\n",
    "# # print(f\"Slope: {slope}, Intercept: {intercept}, R: {r_value}, P: {p_value}, StdErr: {std_err}\")\n",
    "# print(\"FIR Filter Weights:\", np.shape(fir_weights))"
   ]
  },
  {
   "cell_type": "code",
   "execution_count": null,
   "metadata": {},
   "outputs": [],
   "source": []
  }
 ],
 "metadata": {
  "kernelspec": {
   "display_name": ".venv",
   "language": "python",
   "name": "python3"
  },
  "language_info": {
   "codemirror_mode": {
    "name": "ipython",
    "version": 3
   },
   "file_extension": ".py",
   "mimetype": "text/x-python",
   "name": "python",
   "nbconvert_exporter": "python",
   "pygments_lexer": "ipython3",
   "version": "3.12.4"
  }
 },
 "nbformat": 4,
 "nbformat_minor": 2
}
